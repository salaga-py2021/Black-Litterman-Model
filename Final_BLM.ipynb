{
  "cells": [
    {
      "cell_type": "markdown",
      "metadata": {
        "id": "L28OOGloujs_"
      },
      "source": [
        "## **Import Libraries**"
      ]
    },
    {
      "cell_type": "code",
      "execution_count": null,
      "metadata": {
        "id": "bjO-2I9zum4r"
      },
      "outputs": [],
      "source": [
        "#data-manipulation\n",
        "import pandas as pd\n",
        "import numpy as np\n",
        "import nltk"
      ]
    },
    {
      "cell_type": "code",
      "execution_count": null,
      "metadata": {
        "id": "79Vku7NWu4g8"
      },
      "outputs": [],
      "source": [
        "#dtata-visualization\n",
        "import matplotlib.pyplot as plt\n",
        "import seaborn as sns"
      ]
    },
    {
      "cell_type": "code",
      "execution_count": null,
      "metadata": {
        "id": "8oX0iuz2u93J",
        "colab": {
          "base_uri": "https://localhost:8080/"
        },
        "outputId": "d965d485-fc8d-446d-a891-030566008520"
      },
      "outputs": [
        {
          "output_type": "stream",
          "name": "stdout",
          "text": [
            "Looking in indexes: https://pypi.org/simple, https://us-python.pkg.dev/colab-wheels/public/simple/\n",
            "Collecting yfinance\n",
            "  Downloading yfinance-0.1.75-py2.py3-none-any.whl (28 kB)\n",
            "Requirement already satisfied: multitasking>=0.0.7 in /usr/local/lib/python3.7/dist-packages (from yfinance) (0.0.11)\n",
            "Requirement already satisfied: appdirs>=1.4.4 in /usr/local/lib/python3.7/dist-packages (from yfinance) (1.4.4)\n",
            "Requirement already satisfied: pandas>=0.24.0 in /usr/local/lib/python3.7/dist-packages (from yfinance) (1.3.5)\n",
            "Requirement already satisfied: lxml>=4.5.1 in /usr/local/lib/python3.7/dist-packages (from yfinance) (4.9.1)\n",
            "Collecting requests>=2.26\n",
            "  Downloading requests-2.28.1-py3-none-any.whl (62 kB)\n",
            "\u001b[K     |████████████████████████████████| 62 kB 958 kB/s \n",
            "\u001b[?25hRequirement already satisfied: numpy>=1.15 in /usr/local/lib/python3.7/dist-packages (from yfinance) (1.21.6)\n",
            "Requirement already satisfied: python-dateutil>=2.7.3 in /usr/local/lib/python3.7/dist-packages (from pandas>=0.24.0->yfinance) (2.8.2)\n",
            "Requirement already satisfied: pytz>=2017.3 in /usr/local/lib/python3.7/dist-packages (from pandas>=0.24.0->yfinance) (2022.4)\n",
            "Requirement already satisfied: six>=1.5 in /usr/local/lib/python3.7/dist-packages (from python-dateutil>=2.7.3->pandas>=0.24.0->yfinance) (1.15.0)\n",
            "Requirement already satisfied: certifi>=2017.4.17 in /usr/local/lib/python3.7/dist-packages (from requests>=2.26->yfinance) (2022.9.24)\n",
            "Requirement already satisfied: charset-normalizer<3,>=2 in /usr/local/lib/python3.7/dist-packages (from requests>=2.26->yfinance) (2.1.1)\n",
            "Requirement already satisfied: urllib3<1.27,>=1.21.1 in /usr/local/lib/python3.7/dist-packages (from requests>=2.26->yfinance) (1.24.3)\n",
            "Requirement already satisfied: idna<4,>=2.5 in /usr/local/lib/python3.7/dist-packages (from requests>=2.26->yfinance) (2.10)\n",
            "Installing collected packages: requests, yfinance\n",
            "  Attempting uninstall: requests\n",
            "    Found existing installation: requests 2.23.0\n",
            "    Uninstalling requests-2.23.0:\n",
            "      Successfully uninstalled requests-2.23.0\n",
            "Successfully installed requests-2.28.1 yfinance-0.1.75\n",
            "Looking in indexes: https://pypi.org/simple, https://us-python.pkg.dev/colab-wheels/public/simple/\n",
            "Collecting PyPortfolioOpt\n",
            "  Downloading pyportfolioopt-1.5.2-py3-none-any.whl (61 kB)\n",
            "\u001b[K     |████████████████████████████████| 61 kB 3.4 MB/s \n",
            "\u001b[?25hRequirement already satisfied: scipy<2.0,>=1.3 in /usr/local/lib/python3.7/dist-packages (from PyPortfolioOpt) (1.7.3)\n",
            "Requirement already satisfied: numpy<2.0,>=1.12 in /usr/local/lib/python3.7/dist-packages (from PyPortfolioOpt) (1.21.6)\n",
            "Requirement already satisfied: pandas>=0.19 in /usr/local/lib/python3.7/dist-packages (from PyPortfolioOpt) (1.3.5)\n",
            "Requirement already satisfied: cvxpy<2.0.0,>=1.1.10 in /usr/local/lib/python3.7/dist-packages (from PyPortfolioOpt) (1.2.1)\n",
            "Requirement already satisfied: osqp>=0.4.1 in /usr/local/lib/python3.7/dist-packages (from cvxpy<2.0.0,>=1.1.10->PyPortfolioOpt) (0.6.2.post0)\n",
            "Requirement already satisfied: scs>=1.1.6 in /usr/local/lib/python3.7/dist-packages (from cvxpy<2.0.0,>=1.1.10->PyPortfolioOpt) (3.2.0)\n",
            "Requirement already satisfied: ecos>=2 in /usr/local/lib/python3.7/dist-packages (from cvxpy<2.0.0,>=1.1.10->PyPortfolioOpt) (2.0.10)\n",
            "Requirement already satisfied: qdldl in /usr/local/lib/python3.7/dist-packages (from osqp>=0.4.1->cvxpy<2.0.0,>=1.1.10->PyPortfolioOpt) (0.1.5.post2)\n",
            "Requirement already satisfied: pytz>=2017.3 in /usr/local/lib/python3.7/dist-packages (from pandas>=0.19->PyPortfolioOpt) (2022.4)\n",
            "Requirement already satisfied: python-dateutil>=2.7.3 in /usr/local/lib/python3.7/dist-packages (from pandas>=0.19->PyPortfolioOpt) (2.8.2)\n",
            "Requirement already satisfied: six>=1.5 in /usr/local/lib/python3.7/dist-packages (from python-dateutil>=2.7.3->pandas>=0.19->PyPortfolioOpt) (1.15.0)\n",
            "Installing collected packages: PyPortfolioOpt\n",
            "Successfully installed PyPortfolioOpt-1.5.2\n"
          ]
        }
      ],
      "source": [
        "#financial-data & black litterman model\n",
        "!pip install yfinance\n",
        "!pip install PyPortfolioOpt\n",
        "import yfinance as yf\n",
        "from pypfopt import black_litterman, risk_models\n",
        "from pypfopt.black_litterman import BlackLittermanModel\n",
        "from pypfopt.efficient_frontier import EfficientFrontier"
      ]
    },
    {
      "cell_type": "markdown",
      "metadata": {
        "id": "CJtIWmGQvltp"
      },
      "source": [
        "# **Test Space**"
      ]
    },
    {
      "cell_type": "code",
      "execution_count": null,
      "metadata": {
        "colab": {
          "base_uri": "https://localhost:8080/"
        },
        "id": "Y9xxn5jrvr2y",
        "outputId": "bb0a77eb-8432-477e-90e3-6a80f041d642"
      },
      "outputs": [
        {
          "output_type": "stream",
          "name": "stdout",
          "text": [
            "[*********************100%***********************]  6 of 6 completed\n"
          ]
        }
      ],
      "source": [
        "#identify risk-free rate to find implied returns using ^IRX (13 Week T-Bill)\n",
        "price_df = yf.download(\n",
        "    ['^IRX','AAPL','BBY','BAC','SBUX','T'],\n",
        "    start='2017-01-01',\n",
        "    end='2020-01-01',\n",
        "    interval='1mo').dropna().pct_change()[1:]"
      ]
    },
    {
      "cell_type": "markdown",
      "metadata": {
        "id": "T6C99Jr_rGSn"
      },
      "source": [
        "# **Black Letterman Inputs**"
      ]
    },
    {
      "cell_type": "code",
      "execution_count": null,
      "metadata": {
        "id": "MgCw5gH120RB"
      },
      "outputs": [],
      "source": [
        "#identify risk-free rate to find implied returns using ^IRX (13 Week T-Bill)\n",
        "def risk_free(start_date, end_date):\n",
        "    rfdf = yf.download('^IRX',start=start_date,end=end_date,interval='1d').dropna()\n",
        "    return rfdf['Adj Close']"
      ]
    },
    {
      "cell_type": "code",
      "execution_count": null,
      "metadata": {
        "id": "kKsV7ia5rGSo"
      },
      "outputs": [],
      "source": [
        " def market_data(start_date,end_date):\n",
        "        market_df = yf.download('^GSPC',start=start_date,end=end_date,interval='1d').dropna()\n",
        "        return market_df['Adj Close']"
      ]
    },
    {
      "cell_type": "code",
      "execution_count": null,
      "metadata": {
        "id": "YGJD7q4orGSp"
      },
      "outputs": [],
      "source": [
        "def get_historicals(start_date,stock_tickers,end_date,data_type='Adj Close',returns=True):\n",
        "    \"\"\" \n",
        "        Pulls the historical data from a specified start_date and end_date. \n",
        "        start_date: '20xx-MM-DD'\n",
        "        data_type: lets you choose between Open, Close, AdjClose\n",
        "        returns: returuns the pct_change data frame\n",
        "        stock_tickers: list of stock_tickers interest\n",
        "    \"\"\"\n",
        "    if returns:\n",
        "        historicals = yf.download(\n",
        "            ['^IRX']+stock_tickers,\n",
        "            start=start_date,\n",
        "            end=end_date,\n",
        "            interval='1d'\n",
        "        ).dropna()\n",
        "    else:\n",
        "        historicals = yf.download(\n",
        "            ['^IRX']+stock_tickers,\n",
        "            start=start_date,\n",
        "            end=end_date,\n",
        "            interval='1d'\n",
        "        ).dropna().pct_change().dropna()[1:]\n",
        "        \n",
        "    return historicals[data_type]"
      ]
    },
    {
      "cell_type": "code",
      "execution_count": null,
      "metadata": {
        "id": "B0JRZbEYrGSp"
      },
      "outputs": [],
      "source": [
        "def risk_premium(returns_df,cov = True):\n",
        "    temp = pd.DataFrame()\n",
        "    for i in returns_df.columns:\n",
        "        temp[i] = returns_df['^IRX']\n",
        "    premium = returns_df - temp\n",
        "    if cov:\n",
        "        return premium.cov().iloc[0:-1,:-1]\n",
        "    else:\n",
        "        return premium.iloc[0:-1,:-1]"
      ]
    },
    {
      "cell_type": "code",
      "execution_count": null,
      "metadata": {
        "id": "7kKaB7uArGSp"
      },
      "outputs": [],
      "source": [
        "def market_cap(stock_tickers):\n",
        "    market_cap = {}\n",
        "    for t in stock_tickers:\n",
        "        stock = yf.Ticker(t)\n",
        "        market_cap[t] = stock.info[\"marketCap\"]\n",
        "    return market_cap"
      ]
    },
    {
      "cell_type": "code",
      "execution_count": null,
      "metadata": {
        "id": "btUmOshKrGSq"
      },
      "outputs": [],
      "source": [
        "def QandPMatrix(views,stock_ticker):\n",
        "    #Assume it's in format: [[('MSFT','>','GE'),0.02],['MSFT',0.02]]\n",
        "    q_matrix = []\n",
        "    p_matrix = np.zeros((len(views),len(stock_ticker)))\n",
        "    for view in views:\n",
        "        q_matrix.append(view[1])\n",
        "    for i in range(len(views)):\n",
        "        if type(views[i][0]) is str:\n",
        "            pos = stock_ticker.index(views[i][0]) \n",
        "            p_matrix[i][pos] = 1 \n",
        "        else:\n",
        "            pos_1 = stock_ticker.index(views[i][0][0])\n",
        "            pos_2 = stock_ticker.index(views[i][0][2])\n",
        "            if views[i][0][1] == '>':\n",
        "                p_matrix[i][pos_1] = 1\n",
        "                p_matrix[i][pos_2] = -1\n",
        "            else:\n",
        "                p_matrix[i][pos_1] = -1\n",
        "                p_matrix[i][pos_2] = 1\n",
        "    return [q_matrix,p_matrix]"
      ]
    },
    {
      "cell_type": "code",
      "execution_count": null,
      "metadata": {
        "id": "BCdkPheHrGSq"
      },
      "outputs": [],
      "source": [
        "def RunBlackLittermanModel(start_date, end_date,stock_tickers,views):\n",
        "    delta = black_litterman.market_implied_risk_aversion(\n",
        "        market_data(start_date,end_date),\n",
        "        frequency=252,\n",
        "        risk_free_rate= risk_free(start_date, end_date)\n",
        "    ).mean()\n",
        "    returns_df = get_historicals(start_date,stock_tickers,end_date)\n",
        "    cov_matrix = risk_premium(returns_df,cov = True)\n",
        "    prior = black_litterman.market_implied_prior_returns(\n",
        "        market_cap(stock_tickers), \n",
        "        delta, \n",
        "        cov_matrix\n",
        "      )\n",
        "    tau = 0.05\n",
        "    QandP = QandPMatrix(views,stock_tickers)\n",
        "    Q = np.transpose(QandP[0])\n",
        "    P = QandP[1]\n",
        "    omega = tau * np.dot(np.dot(P,risk_premium(returns_df,cov = True)),np.transpose(P))\n",
        "    bl = BlackLittermanModel(\n",
        "        cov_matrix = cov_matrix,\n",
        "        pi = prior,\n",
        "        Q = Q,\n",
        "        P = P,\n",
        "        omega = omega,\n",
        "        tau = tau\n",
        "    )  \n",
        "    bl.bl_weights(delta)\n",
        "    bl_weights = dict(bl.clean_weights())\n",
        "    bl_rets = bl.bl_returns()\n",
        "    return (bl_weights,bl_rets)"
      ]
    },
    {
      "cell_type": "markdown",
      "metadata": {
        "id": "Kzbahq1CrGSq"
      },
      "source": [
        "# RunBlackLittermanModel"
      ]
    },
    {
      "cell_type": "code",
      "execution_count": null,
      "metadata": {
        "id": "je7awCKmrGSr",
        "outputId": "d4bed863-a7c3-44df-cd93-2238ea8528f3",
        "colab": {
          "base_uri": "https://localhost:8080/"
        }
      },
      "outputs": [
        {
          "output_type": "stream",
          "name": "stdout",
          "text": [
            "[*********************100%***********************]  1 of 1 completed\n",
            "[*********************100%***********************]  1 of 1 completed\n",
            "[*********************100%***********************]  5 of 5 completed\n"
          ]
        },
        {
          "output_type": "execute_result",
          "data": {
            "text/plain": [
              "({'AAPL': 0.55933, 'AMZN': 0.29661, 'CCL': 0.53838, 'NCLH': -0.39432},\n",
              " AAPL   -282.753378\n",
              " AMZN   -349.340432\n",
              " CCL      48.666349\n",
              " NCLH     51.035503\n",
              " dtype: float64)"
            ]
          },
          "metadata": {},
          "execution_count": 12
        }
      ],
      "source": [
        "RunBlackLittermanModel(\n",
        "    '2020-01-01',\n",
        "    '2021-01-01',\n",
        "    ['AAPL','AMZN','CCL','NCLH'],\n",
        "    [[('AAPL','>','CCL'),1],['AMZN',0.30],[('AMZN','>','NCLH'),1]]\n",
        ")"
      ]
    },
    {
      "cell_type": "code",
      "source": [],
      "metadata": {
        "id": "ePaU4eYryetg"
      },
      "execution_count": null,
      "outputs": []
    }
  ],
  "metadata": {
    "colab": {
      "provenance": []
    },
    "kernelspec": {
      "display_name": "Python 3",
      "language": "python",
      "name": "python3"
    },
    "language_info": {
      "codemirror_mode": {
        "name": "ipython",
        "version": 3
      },
      "file_extension": ".py",
      "mimetype": "text/x-python",
      "name": "python",
      "nbconvert_exporter": "python",
      "pygments_lexer": "ipython3",
      "version": "3.8.5"
    }
  },
  "nbformat": 4,
  "nbformat_minor": 0
}